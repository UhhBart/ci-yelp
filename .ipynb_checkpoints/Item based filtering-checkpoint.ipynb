{
 "cells": [
  {
   "cell_type": "markdown",
   "metadata": {},
   "source": [
    "item-based sander en hugo"
   ]
  },
  {
   "cell_type": "code",
   "execution_count": 47,
   "metadata": {},
   "outputs": [],
   "source": [
    "import json\n",
    "from pandas import Series, Timestamp\n",
    "import pandas as pd\n",
    "from pandas import DataFrame\n",
    "from numpy import nan\n",
    "import sklearn.metrics.pairwise as pw\n",
    "import numpy as np\n"
   ]
  },
  {
   "cell_type": "code",
   "execution_count": 48,
   "metadata": {},
   "outputs": [],
   "source": [
    "def load_jsons(data_path, file):\n",
    "    \"\"\" helper function to load '.json' files (they're not proper jsons) \"\"\"\n",
    "    file_path = data_path + file\n",
    "    with open(file_path) as jsons:\n",
    "        lines = [json.loads(json_line) for json_line in jsons]\n",
    "    return pd.DataFrame(lines)"
   ]
  },
  {
   "cell_type": "code",
   "execution_count": 54,
   "metadata": {},
   "outputs": [
    {
     "data": {
      "text/html": [
       "<div>\n",
       "<style scoped>\n",
       "    .dataframe tbody tr th:only-of-type {\n",
       "        vertical-align: middle;\n",
       "    }\n",
       "\n",
       "    .dataframe tbody tr th {\n",
       "        vertical-align: top;\n",
       "    }\n",
       "\n",
       "    .dataframe thead th {\n",
       "        text-align: right;\n",
       "    }\n",
       "</style>\n",
       "<table border=\"1\" class=\"dataframe\">\n",
       "  <thead>\n",
       "    <tr style=\"text-align: right;\">\n",
       "      <th></th>\n",
       "      <th>review_id</th>\n",
       "      <th>user_id</th>\n",
       "      <th>business_id</th>\n",
       "      <th>stars</th>\n",
       "      <th>useful</th>\n",
       "      <th>funny</th>\n",
       "      <th>cool</th>\n",
       "      <th>text</th>\n",
       "      <th>date</th>\n",
       "    </tr>\n",
       "  </thead>\n",
       "  <tbody>\n",
       "    <tr>\n",
       "      <td>0</td>\n",
       "      <td>qb2EVdmVNvw3D0kBMN6Xrg</td>\n",
       "      <td>hXydWH25S92HjI5hmWRSyA</td>\n",
       "      <td>dJ0R-XT78LUQeNHQkD-G9g</td>\n",
       "      <td>5.0</td>\n",
       "      <td>0</td>\n",
       "      <td>0</td>\n",
       "      <td>0</td>\n",
       "      <td>Best place to get ice cream. They have only tw...</td>\n",
       "      <td>2018-08-14 04:03:02</td>\n",
       "    </tr>\n",
       "    <tr>\n",
       "      <td>1</td>\n",
       "      <td>Ecr_pKR7786kmcLVXLp5NA</td>\n",
       "      <td>vo6vLeHoPl_h-Vt-YHs9_A</td>\n",
       "      <td>Q_0eGl-aElqHKukHvmLdwA</td>\n",
       "      <td>1.0</td>\n",
       "      <td>0</td>\n",
       "      <td>0</td>\n",
       "      <td>0</td>\n",
       "      <td>Sorry to say, Nelias did not live up to the ot...</td>\n",
       "      <td>2015-12-05 23:21:39</td>\n",
       "    </tr>\n",
       "    <tr>\n",
       "      <td>2</td>\n",
       "      <td>Ro6-JL0KCS5JULXUNRST-w</td>\n",
       "      <td>i1qyYL4fpAel8Ljt4WaZ3g</td>\n",
       "      <td>Q_0eGl-aElqHKukHvmLdwA</td>\n",
       "      <td>1.0</td>\n",
       "      <td>0</td>\n",
       "      <td>0</td>\n",
       "      <td>0</td>\n",
       "      <td>Wouldn't give it one star if I could. This pla...</td>\n",
       "      <td>2015-08-07 19:33:13</td>\n",
       "    </tr>\n",
       "    <tr>\n",
       "      <td>3</td>\n",
       "      <td>tuDIfqFjtj5zTLjtY9W1Hg</td>\n",
       "      <td>dUOg3fS3RTYDZUpu0CqqiA</td>\n",
       "      <td>729grSa1Wsn-hfv7D5uOxg</td>\n",
       "      <td>5.0</td>\n",
       "      <td>2</td>\n",
       "      <td>0</td>\n",
       "      <td>1</td>\n",
       "      <td>Police Station Pizza has always been my favori...</td>\n",
       "      <td>2014-10-28 18:29:48</td>\n",
       "    </tr>\n",
       "    <tr>\n",
       "      <td>4</td>\n",
       "      <td>zw3oXGWKQdVjST5UI9kM3g</td>\n",
       "      <td>k2Bsnh6CV0HFX8RgGR1p9A</td>\n",
       "      <td>Q_0eGl-aElqHKukHvmLdwA</td>\n",
       "      <td>5.0</td>\n",
       "      <td>0</td>\n",
       "      <td>0</td>\n",
       "      <td>0</td>\n",
       "      <td>There is nothing fancy about this place - it i...</td>\n",
       "      <td>2013-04-13 15:58:06</td>\n",
       "    </tr>\n",
       "  </tbody>\n",
       "</table>\n",
       "</div>"
      ],
      "text/plain": [
       "                review_id                 user_id             business_id  \\\n",
       "0  qb2EVdmVNvw3D0kBMN6Xrg  hXydWH25S92HjI5hmWRSyA  dJ0R-XT78LUQeNHQkD-G9g   \n",
       "1  Ecr_pKR7786kmcLVXLp5NA  vo6vLeHoPl_h-Vt-YHs9_A  Q_0eGl-aElqHKukHvmLdwA   \n",
       "2  Ro6-JL0KCS5JULXUNRST-w  i1qyYL4fpAel8Ljt4WaZ3g  Q_0eGl-aElqHKukHvmLdwA   \n",
       "3  tuDIfqFjtj5zTLjtY9W1Hg  dUOg3fS3RTYDZUpu0CqqiA  729grSa1Wsn-hfv7D5uOxg   \n",
       "4  zw3oXGWKQdVjST5UI9kM3g  k2Bsnh6CV0HFX8RgGR1p9A  Q_0eGl-aElqHKukHvmLdwA   \n",
       "\n",
       "   stars  useful  funny  cool  \\\n",
       "0    5.0       0      0     0   \n",
       "1    1.0       0      0     0   \n",
       "2    1.0       0      0     0   \n",
       "3    5.0       2      0     1   \n",
       "4    5.0       0      0     0   \n",
       "\n",
       "                                                text                 date  \n",
       "0  Best place to get ice cream. They have only tw...  2018-08-14 04:03:02  \n",
       "1  Sorry to say, Nelias did not live up to the ot...  2015-12-05 23:21:39  \n",
       "2  Wouldn't give it one star if I could. This pla...  2015-08-07 19:33:13  \n",
       "3  Police Station Pizza has always been my favori...  2014-10-28 18:29:48  \n",
       "4  There is nothing fancy about this place - it i...  2013-04-13 15:58:06  "
      ]
     },
     "metadata": {},
     "output_type": "display_data"
    }
   ],
   "source": [
    "data_path = '../data/balzac/'\n",
    "review_file = 'review.json'\n",
    "reviews = load_jsons(data_path, review_file)\n",
    "\n",
    "display(reviews.head())"
   ]
  },
  {
   "cell_type": "code",
   "execution_count": 55,
   "metadata": {},
   "outputs": [],
   "source": [
    "def split_data(data, d = 0.75):\n",
    "    np.random.seed(seed=5)\n",
    "    mask_test = np.random.rand(data.shape[0]) < d\n",
    "    return data[mask_test], data[~mask_test]\n",
    "\n",
    "reviews_training, reviews_test = split_data(reviews, d=0.9)"
   ]
  },
  {
   "cell_type": "code",
   "execution_count": 1,
   "metadata": {},
   "outputs": [],
   "source": [
    "def pivot_ratings(df):\n",
    "    return df.pivot_table(values='stars', columns='user_id', index='review_id')\n",
    "\n",
    "def create_similarity_matrix_cosine(matrix):\n",
    "    mc_matrix = matrix - matrix.mean(axis = 0)\n",
    "    return pd.DataFrame(pw.cosine_similarity(mc_matrix.fillna(0)), index = matrix.index, columns = matrix.index)"
   ]
  },
  {
   "cell_type": "code",
   "execution_count": 2,
   "metadata": {},
   "outputs": [
    {
     "ename": "NameError",
     "evalue": "name 'reviews_training' is not defined",
     "output_type": "error",
     "traceback": [
      "\u001b[0;31m---------------------------------------------------------------------------\u001b[0m",
      "\u001b[0;31mNameError\u001b[0m                                 Traceback (most recent call last)",
      "\u001b[0;32m<ipython-input-2-2a34a1665475>\u001b[0m in \u001b[0;36m<module>\u001b[0;34m\u001b[0m\n\u001b[0;32m----> 1\u001b[0;31m \u001b[0mreview_utitity_ratings\u001b[0m \u001b[0;34m=\u001b[0m \u001b[0mpivot_ratings\u001b[0m\u001b[0;34m(\u001b[0m\u001b[0mreviews_training\u001b[0m\u001b[0;34m)\u001b[0m\u001b[0;34m\u001b[0m\u001b[0;34m\u001b[0m\u001b[0m\n\u001b[0m\u001b[1;32m      2\u001b[0m \u001b[0mdisplay\u001b[0m\u001b[0;34m(\u001b[0m\u001b[0mreview_utitity_ratings\u001b[0m\u001b[0;34m)\u001b[0m\u001b[0;34m\u001b[0m\u001b[0;34m\u001b[0m\u001b[0m\n",
      "\u001b[0;31mNameError\u001b[0m: name 'reviews_training' is not defined"
     ]
    }
   ],
   "source": [
    "review_utitity_ratings = pivot_ratings(reviews_training)\n",
    "display(review_utitity_ratings)"
   ]
  },
  {
   "cell_type": "code",
   "execution_count": 3,
   "metadata": {},
   "outputs": [
    {
     "ename": "NameError",
     "evalue": "name 'review_utitity_ratings' is not defined",
     "output_type": "error",
     "traceback": [
      "\u001b[0;31m---------------------------------------------------------------------------\u001b[0m",
      "\u001b[0;31mNameError\u001b[0m                                 Traceback (most recent call last)",
      "\u001b[0;32m<ipython-input-3-9cae1ee669eb>\u001b[0m in \u001b[0;36m<module>\u001b[0;34m\u001b[0m\n\u001b[0;32m----> 1\u001b[0;31m \u001b[0mdf_similarity_ratings\u001b[0m \u001b[0;34m=\u001b[0m \u001b[0mcreate_similarity_matrix_cosine\u001b[0m\u001b[0;34m(\u001b[0m\u001b[0mreview_utitity_ratings\u001b[0m\u001b[0;34m)\u001b[0m\u001b[0;34m\u001b[0m\u001b[0;34m\u001b[0m\u001b[0m\n\u001b[0m\u001b[1;32m      2\u001b[0m \u001b[0mdisplay\u001b[0m\u001b[0;34m(\u001b[0m\u001b[0mdf_similarity_ratings\u001b[0m\u001b[0;34m)\u001b[0m\u001b[0;34m\u001b[0m\u001b[0;34m\u001b[0m\u001b[0m\n",
      "\u001b[0;31mNameError\u001b[0m: name 'review_utitity_ratings' is not defined"
     ]
    }
   ],
   "source": [
    "df_similarity_ratings = create_similarity_matrix_cosine(review_utitity_ratings)\n",
    "display(df_similarity_ratings)"
   ]
  },
  {
   "cell_type": "code",
   "execution_count": null,
   "metadata": {},
   "outputs": [],
   "source": []
  }
 ],
 "metadata": {
  "kernelspec": {
   "display_name": "Python 3",
   "language": "python",
   "name": "python3"
  },
  "language_info": {
   "codemirror_mode": {
    "name": "ipython",
    "version": 3
   },
   "file_extension": ".py",
   "mimetype": "text/x-python",
   "name": "python",
   "nbconvert_exporter": "python",
   "pygments_lexer": "ipython3",
   "version": "3.7.4"
  }
 },
 "nbformat": 4,
 "nbformat_minor": 2
}
