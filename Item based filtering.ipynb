{
 "cells": [
  {
   "cell_type": "markdown",
   "metadata": {},
   "source": [
    "item-based sander en hugo"
   ]
  },
  {
   "cell_type": "code",
   "execution_count": 23,
   "metadata": {},
   "outputs": [],
   "source": [
    "import json\n",
    "from pandas import Series, Timestamp\n",
    "import pandas as pd\n",
    "from pandas import DataFrame\n",
    "from numpy import nan\n",
    "import sklearn.metrics.pairwise as pw\n",
    "import numpy as np\n",
    "import matplotlib.pyplot as plt\n",
    "\n",
    "\n"
   ]
  },
  {
   "cell_type": "code",
   "execution_count": 6,
   "metadata": {},
   "outputs": [],
   "source": [
    "def load_jsons(data_path, file):\n",
    "    \"\"\" helper function to load '.json' files (they're not proper jsons) \"\"\"\n",
    "    file_path = data_path + file\n",
    "    with open(file_path) as jsons:\n",
    "        lines = [json.loads(json_line) for json_line in jsons]\n",
    "    return pd.DataFrame(lines)"
   ]
  },
  {
   "cell_type": "code",
   "execution_count": 7,
   "metadata": {},
   "outputs": [
    {
     "data": {
      "text/html": [
       "<div>\n",
       "<style scoped>\n",
       "    .dataframe tbody tr th:only-of-type {\n",
       "        vertical-align: middle;\n",
       "    }\n",
       "\n",
       "    .dataframe tbody tr th {\n",
       "        vertical-align: top;\n",
       "    }\n",
       "\n",
       "    .dataframe thead th {\n",
       "        text-align: right;\n",
       "    }\n",
       "</style>\n",
       "<table border=\"1\" class=\"dataframe\">\n",
       "  <thead>\n",
       "    <tr style=\"text-align: right;\">\n",
       "      <th></th>\n",
       "      <th>review_id</th>\n",
       "      <th>user_id</th>\n",
       "      <th>business_id</th>\n",
       "      <th>stars</th>\n",
       "      <th>useful</th>\n",
       "      <th>funny</th>\n",
       "      <th>cool</th>\n",
       "      <th>text</th>\n",
       "      <th>date</th>\n",
       "    </tr>\n",
       "  </thead>\n",
       "  <tbody>\n",
       "    <tr>\n",
       "      <td>0</td>\n",
       "      <td>Ccc3ZAXEw69lGZg5oAZKHw</td>\n",
       "      <td>YZ7S0_eemKwWR5tHkaMUqw</td>\n",
       "      <td>JD55YRLwptXJVkMRekbzNg</td>\n",
       "      <td>2.0</td>\n",
       "      <td>0</td>\n",
       "      <td>0</td>\n",
       "      <td>0</td>\n",
       "      <td>Average food and service. Kind of dirty and so...</td>\n",
       "      <td>2017-08-16 04:35:11</td>\n",
       "    </tr>\n",
       "    <tr>\n",
       "      <td>1</td>\n",
       "      <td>aZOOTcXB28ftRZJnQDMjjA</td>\n",
       "      <td>UiU_yqwSQwTZdw3vxD_Aag</td>\n",
       "      <td>JD55YRLwptXJVkMRekbzNg</td>\n",
       "      <td>4.0</td>\n",
       "      <td>0</td>\n",
       "      <td>0</td>\n",
       "      <td>0</td>\n",
       "      <td>Probably one of the best Vietnamese restaurant...</td>\n",
       "      <td>2017-12-02 20:13:24</td>\n",
       "    </tr>\n",
       "    <tr>\n",
       "      <td>2</td>\n",
       "      <td>9qRSlEj4Rcd3NXektgI1hA</td>\n",
       "      <td>vu9dmqZiZSm3ijUP-7HmKA</td>\n",
       "      <td>VvZnozdEpjw0e7Dg-kKIxg</td>\n",
       "      <td>4.0</td>\n",
       "      <td>0</td>\n",
       "      <td>0</td>\n",
       "      <td>0</td>\n",
       "      <td>Petit restaurant, déco un peu vieillote, mais ...</td>\n",
       "      <td>2014-10-27 03:10:16</td>\n",
       "    </tr>\n",
       "    <tr>\n",
       "      <td>3</td>\n",
       "      <td>KTcqaTj8sHT0zJ0V-p1Kjg</td>\n",
       "      <td>S-t12afI5gGgVWZTV3iQNQ</td>\n",
       "      <td>n2dhdtnOzqeAKSn6s3nQSw</td>\n",
       "      <td>2.0</td>\n",
       "      <td>0</td>\n",
       "      <td>0</td>\n",
       "      <td>0</td>\n",
       "      <td>We went there on a friday night, the whole pla...</td>\n",
       "      <td>2017-01-14 21:20:25</td>\n",
       "    </tr>\n",
       "    <tr>\n",
       "      <td>4</td>\n",
       "      <td>22vF44g9TIDsQOpmvVVg6A</td>\n",
       "      <td>_FKhZ0r6uTBNHA_ALWyGqg</td>\n",
       "      <td>KE7cmEKW8IwMFAdmzP72rQ</td>\n",
       "      <td>1.0</td>\n",
       "      <td>1</td>\n",
       "      <td>0</td>\n",
       "      <td>0</td>\n",
       "      <td>Pour un restaurant Italien qui pense que Sauce...</td>\n",
       "      <td>2015-06-08 19:09:25</td>\n",
       "    </tr>\n",
       "  </tbody>\n",
       "</table>\n",
       "</div>"
      ],
      "text/plain": [
       "                review_id                 user_id             business_id  \\\n",
       "0  Ccc3ZAXEw69lGZg5oAZKHw  YZ7S0_eemKwWR5tHkaMUqw  JD55YRLwptXJVkMRekbzNg   \n",
       "1  aZOOTcXB28ftRZJnQDMjjA  UiU_yqwSQwTZdw3vxD_Aag  JD55YRLwptXJVkMRekbzNg   \n",
       "2  9qRSlEj4Rcd3NXektgI1hA  vu9dmqZiZSm3ijUP-7HmKA  VvZnozdEpjw0e7Dg-kKIxg   \n",
       "3  KTcqaTj8sHT0zJ0V-p1Kjg  S-t12afI5gGgVWZTV3iQNQ  n2dhdtnOzqeAKSn6s3nQSw   \n",
       "4  22vF44g9TIDsQOpmvVVg6A  _FKhZ0r6uTBNHA_ALWyGqg  KE7cmEKW8IwMFAdmzP72rQ   \n",
       "\n",
       "   stars  useful  funny  cool  \\\n",
       "0    2.0       0      0     0   \n",
       "1    4.0       0      0     0   \n",
       "2    4.0       0      0     0   \n",
       "3    2.0       0      0     0   \n",
       "4    1.0       1      0     0   \n",
       "\n",
       "                                                text                 date  \n",
       "0  Average food and service. Kind of dirty and so...  2017-08-16 04:35:11  \n",
       "1  Probably one of the best Vietnamese restaurant...  2017-12-02 20:13:24  \n",
       "2  Petit restaurant, déco un peu vieillote, mais ...  2014-10-27 03:10:16  \n",
       "3  We went there on a friday night, the whole pla...  2017-01-14 21:20:25  \n",
       "4  Pour un restaurant Italien qui pense que Sauce...  2015-06-08 19:09:25  "
      ]
     },
     "metadata": {},
     "output_type": "display_data"
    }
   ],
   "source": [
    "data_path = '../data/brossard/'\n",
    "review_file = 'review.json'\n",
    "reviews = load_jsons(data_path, review_file)\n",
    "\n",
    "display(reviews.head())"
   ]
  },
  {
   "cell_type": "code",
   "execution_count": 8,
   "metadata": {},
   "outputs": [],
   "source": [
    "def split_data(data, d = 0.75):\n",
    "    np.random.seed(seed=5)\n",
    "    mask_test = np.random.rand(data.shape[0]) < d\n",
    "    return data[mask_test], data[~mask_test]\n",
    "\n",
    "reviews_training, reviews_test = split_data(reviews, d=0.9)"
   ]
  },
  {
   "cell_type": "code",
   "execution_count": null,
   "metadata": {},
   "outputs": [],
   "source": [
    "def pivot_ratings(df):\n",
    "    return df.pivot_table(values='stars', columns='user_id', index='business_id')"
   ]
  },
  {
   "cell_type": "code",
   "execution_count": 38,
   "metadata": {},
   "outputs": [],
   "source": [
    "def create_similarity_matrix_cosine(matrix):\n",
    "    mc_matrix = matrix - matrix.mean(axis = 0)\n",
    "    return pd.DataFrame(pw.euclidean_distances(mc_matrix.fillna(0)), index = matrix.index, columns = matrix.index)\n",
    "\n",
    "def create_similarity_matrix_linear(matrix):\n",
    "    mc_matrix = matrix - matrix.mean(axis = 0)\n",
    "    return pd.DataFrame(pw.euclidean_distances(mc_matrix.fillna(0)), index = matrix.index, columns = matrix.index)\n",
    "\n",
    "def create_similarity_matrix_euclidean(matrix):\n",
    "    mc_matrix = matrix - matrix.mean(axis = 0)\n",
    "    return pd.DataFrame(pw.euclidean_distances(mc_matrix.fillna(0)), index = matrix.index, columns = matrix.index)\n",
    "\n",
    "def create_similarity_matrix_chunked(matrix):\n",
    "    mc_matrix = matrix - matrix.mean(axis = 0)\n",
    "    return pd.DataFrame(pw.euclidean_distances(mc_matrix.fillna(0)), index = matrix.index, columns = matrix.index)"
   ]
  },
  {
   "cell_type": "code",
   "execution_count": 39,
   "metadata": {},
   "outputs": [],
   "source": [
    "review_utitity_ratings = pivot_ratings(reviews_training)\n",
    "display(review_utitity_ratings.head())"
   ]
  },
  {
   "cell_type": "code",
   "execution_count": 40,
   "metadata": {},
   "outputs": [],
   "source": [
    "review_similarity_ratings = create_similarity_matrix_cosine(review_utitity_ratings)\n",
    "display(review_similarity_ratings.head(5))"
   ]
  },
  {
   "cell_type": "code",
   "execution_count": 41,
   "metadata": {},
   "outputs": [],
   "source": [
    "def predict_ratings(similarity, utility, to_predict):\n",
    "    \n",
    "    # copy input (don't overwrite)\n",
    "    ratings_test_c = to_predict.copy()\n",
    "    # apply prediction to each row\n",
    "    ratings_test_c['predicted rating'] = to_predict.apply(lambda row: predict_ids(similarity, utility, row['user_id'], row['business_id']), axis=1)\n",
    "    return ratings_test_c\n",
    "\n",
    "def predict_ids(similarity, utility, userId, itemId):\n",
    "    # select right series from matrices and compute\n",
    "    if userId in utility.columns and itemId in similarity.index:\n",
    "        return predict_vectors(utility.loc[:,userId], similarity[itemId])\n",
    "    return 0\n",
    "\n",
    "def predict_vectors(user_ratings, similarities):\n",
    "    # select only movies actually rated by user\n",
    "    relevant_ratings = user_ratings.dropna()\n",
    "    \n",
    "    # select corresponding similairties\n",
    "    similarities_s = similarities[relevant_ratings.index]\n",
    "    \n",
    "    # select neighborhood\n",
    "    similarities_s = similarities_s[similarities_s > 0.0]\n",
    "    relevant_ratings = relevant_ratings[similarities_s.index]\n",
    "    \n",
    "    # if there's nothing left return a prediction of 0\n",
    "    norm = similarities_s.sum()\n",
    "    if(norm == 0):\n",
    "        return 0\n",
    "    \n",
    "    # compute a weighted average (i.e. neighborhood is all) \n",
    "    return np.dot(relevant_ratings, similarities_s)/norm"
   ]
  },
  {
   "cell_type": "code",
   "execution_count": 42,
   "metadata": {},
   "outputs": [
    {
     "data": {
      "text/html": [
       "<div>\n",
       "<style scoped>\n",
       "    .dataframe tbody tr th:only-of-type {\n",
       "        vertical-align: middle;\n",
       "    }\n",
       "\n",
       "    .dataframe tbody tr th {\n",
       "        vertical-align: top;\n",
       "    }\n",
       "\n",
       "    .dataframe thead th {\n",
       "        text-align: right;\n",
       "    }\n",
       "</style>\n",
       "<table border=\"1\" class=\"dataframe\">\n",
       "  <thead>\n",
       "    <tr style=\"text-align: right;\">\n",
       "      <th></th>\n",
       "      <th>user_id</th>\n",
       "      <th>business_id</th>\n",
       "      <th>stars</th>\n",
       "      <th>predicted rating</th>\n",
       "    </tr>\n",
       "  </thead>\n",
       "  <tbody>\n",
       "    <tr>\n",
       "      <td>653</td>\n",
       "      <td>-MlnpvmMOE9lb3noLlr6bQ</td>\n",
       "      <td>rSKWpGKiaGkMZeX6ixb2Og</td>\n",
       "      <td>5.0</td>\n",
       "      <td>5.0</td>\n",
       "    </tr>\n",
       "    <tr>\n",
       "      <td>80</td>\n",
       "      <td>pR9ZSwDcdAzl1IvwR-u2kA</td>\n",
       "      <td>MzDjKGeqfbQUCBZyryrt0A</td>\n",
       "      <td>4.0</td>\n",
       "      <td>5.0</td>\n",
       "    </tr>\n",
       "    <tr>\n",
       "      <td>1115</td>\n",
       "      <td>s0F4X2xpiVhrGT1395bSWw</td>\n",
       "      <td>yEzyioaCCZlvlEstY9LNEQ</td>\n",
       "      <td>5.0</td>\n",
       "      <td>5.0</td>\n",
       "    </tr>\n",
       "    <tr>\n",
       "      <td>644</td>\n",
       "      <td>oQwFLohuwcJYMd0WhCph-Q</td>\n",
       "      <td>DHLYtlJYefjAJdAxp8E-bw</td>\n",
       "      <td>1.0</td>\n",
       "      <td>5.0</td>\n",
       "    </tr>\n",
       "    <tr>\n",
       "      <td>301</td>\n",
       "      <td>kYdMjK6GHUfQ7g97SnWNyg</td>\n",
       "      <td>Pl3BoXoOw6mQsauGf755xw</td>\n",
       "      <td>5.0</td>\n",
       "      <td>5.0</td>\n",
       "    </tr>\n",
       "  </tbody>\n",
       "</table>\n",
       "</div>"
      ],
      "text/plain": [
       "                     user_id             business_id  stars  predicted rating\n",
       "653   -MlnpvmMOE9lb3noLlr6bQ  rSKWpGKiaGkMZeX6ixb2Og    5.0               5.0\n",
       "80    pR9ZSwDcdAzl1IvwR-u2kA  MzDjKGeqfbQUCBZyryrt0A    4.0               5.0\n",
       "1115  s0F4X2xpiVhrGT1395bSWw  yEzyioaCCZlvlEstY9LNEQ    5.0               5.0\n",
       "644   oQwFLohuwcJYMd0WhCph-Q  DHLYtlJYefjAJdAxp8E-bw    1.0               5.0\n",
       "301   kYdMjK6GHUfQ7g97SnWNyg  Pl3BoXoOw6mQsauGf755xw    5.0               5.0"
      ]
     },
     "metadata": {},
     "output_type": "display_data"
    }
   ],
   "source": [
    "review_predicted_item_based = predict_ratings(review_similarity_ratings, review_utitity_ratings, reviews_test[['user_id', 'business_id', 'stars']])\n",
    "review_predicted_item_based = review_predicted_item_based.sort_values(by=\"predicted rating\", ascending=False)\n",
    "display(review_predicted_item_based.head(5))"
   ]
  },
  {
   "cell_type": "markdown",
   "metadata": {},
   "source": [
    "### EVALUATION\n",
    "\n"
   ]
  },
  {
   "cell_type": "code",
   "execution_count": 43,
   "metadata": {},
   "outputs": [],
   "source": [
    "treshold_used = 4\n",
    "\n",
    "def get_confusion(prediction, treshold):\n",
    "    re = recommended(prediction, treshold)\n",
    "    hi = hidden(prediction, treshold)\n",
    "    us = used(prediction, treshold_used)\n",
    "    un = unused(prediction, treshold_used)\n",
    "    \n",
    "    return confusion(re, hi, us, un)\n",
    "\n",
    "def recommended(predictions, treshold):\n",
    "    predictions = predictions[predictions[\"predicted rating\"] >= treshold]\n",
    "    return predictions\n",
    "\n",
    "def hidden(predictions, treshold):\n",
    "    predictions = predictions[predictions[\"predicted rating\"] < treshold]\n",
    "    return predictions\n",
    "\n",
    "def used(predictions, treshold):\n",
    "    predictions = predictions[predictions[\"stars\"] >= treshold]\n",
    "    return predictions\n",
    "    \n",
    "def unused(predictions, treshold):\n",
    "    predictions = predictions[predictions[\"stars\"] < treshold]\n",
    "    return predictions\n",
    "\n",
    "def confusion(recommended, hidden, used, unused):\n",
    "    true_positive = len(recommended.index.intersection(used.index))\n",
    "    false_positive = len(recommended.index.intersection(unused.index))\n",
    "    true_negative = len(hidden.index.intersection(unused.index))\n",
    "    false_negative = len(hidden.index.intersection(used.index))\n",
    "    \n",
    "    solution = pd.DataFrame([[true_positive, false_positive], [false_negative, true_negative]], columns=['used', 'unused'],\n",
    "                         index=['recommended', 'hidden'])\n",
    "    return solution\n",
    "    \n",
    "def precision(confusion_matrix):\n",
    "    true_positives = confusion_matrix[\"used\"][\"recommended\"]\n",
    "    recommended = confusion_matrix[\"used\"][\"recommended\"] + confusion_matrix[\"unused\"][\"recommended\"]\n",
    "    return true_positives/recommended\n",
    "\n",
    "def recall(confusion_matrix):\n",
    "    true_positives = confusion_matrix[\"used\"][\"recommended\"]\n",
    "    used_items = confusion_matrix[\"used\"][\"recommended\"] + confusion_matrix[\"used\"][\"hidden\"]\n",
    "    return true_positives/used_items"
   ]
  },
  {
   "cell_type": "code",
   "execution_count": 44,
   "metadata": {},
   "outputs": [
    {
     "data": {
      "image/png": "[encoded data removed]",
      "text/plain": [
       "<Figure size 432x288 with 1 Axes>"
      ]
     },
     "metadata": {
      "needs_background": "light"
     },
     "output_type": "display_data"
    }
   ],
   "source": [
    "tresholds = [2.5, 3.0, 3.5, 4.0, 4.5]\n",
    "\n",
    "def plot_precision_recall(prediction, tresholds):\n",
    "    recalls = []\n",
    "    precisons = []\n",
    "    for treshold in tresholds:\n",
    "        confusion = get_confusion(prediction, treshold)\n",
    "        precisons.append(precision(confusion))\n",
    "        recalls.append(recall(confusion))\n",
    "    \n",
    "    plt.plot(recalls, precisons)\n",
    "    for r, p, t in zip(recalls, precisons, tresholds):\n",
    "        plt.text(r, p, t)\n",
    "        \n",
    "\n",
    "\n",
    "plt.xlabel('recall')\n",
    "plt.ylabel('precision')        \n",
    "plot_precision_recall(review_predicted_item_based, tresholds)        "
   ]
  },
  {
   "cell_type": "code",
   "execution_count": null,
   "metadata": {},
   "outputs": [],
   "source": []
  },
  {
   "cell_type": "code",
   "execution_count": null,
   "metadata": {},
   "outputs": [],
   "source": []
  }
 ],
 "metadata": {
  "kernelspec": {
   "display_name": "Python 3",
   "language": "python",
   "name": "python3"
  },
  "language_info": {
   "codemirror_mode": {
    "name": "ipython",
    "version": 3
   },
   "file_extension": ".py",
   "mimetype": "text/x-python",
   "name": "python",
   "nbconvert_exporter": "python",
   "pygments_lexer": "ipython3",
   "version": "3.7.4"
  }
 },
 "nbformat": 4,
 "nbformat_minor": 2
}
