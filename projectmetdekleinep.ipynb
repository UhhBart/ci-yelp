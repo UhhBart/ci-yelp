{
 "cells": [
  {
   "cell_type": "code",
   "execution_count": 4,
   "metadata": {},
   "outputs": [],
   "source": [
    "from pandas import Series, Timestamp\n",
    "import pandas as pd\n",
    "from pandas import DataFrame\n",
    "import numpy as np\n",
    "import simplejson as json"
   ]
  },
  {
   "cell_type": "code",
   "execution_count": 5,
   "metadata": {},
   "outputs": [],
   "source": [
    "def load_jsons(data_path, file):\n",
    "    \"\"\" helper function to load '.json' files (they're not proper jsons) \"\"\"\n",
    "    file_path = data_path + file\n",
    "    with open(file_path) as jsons:\n",
    "        lines = [json.loads(json_line) for json_line in jsons]\n",
    "    return pd.DataFrame(lines)"
   ]
  },
  {
   "cell_type": "code",
   "execution_count": 6,
   "metadata": {},
   "outputs": [
    {
     "ename": "FileNotFoundError",
     "evalue": "[Errno 2] No such file or directory: './data/ambridge/review.json'",
     "output_type": "error",
     "traceback": [
      "\u001b[1;31m---------------------------------------------------------------------------\u001b[0m",
      "\u001b[1;31mFileNotFoundError\u001b[0m                         Traceback (most recent call last)",
      "\u001b[1;32m<ipython-input-6-31e6ef536360>\u001b[0m in \u001b[0;36m<module>\u001b[1;34m\u001b[0m\n\u001b[0;32m      9\u001b[0m \u001b[0mcheckin_file\u001b[0m \u001b[1;33m=\u001b[0m \u001b[1;34m'checkin.json'\u001b[0m\u001b[1;33m\u001b[0m\u001b[1;33m\u001b[0m\u001b[0m\n\u001b[0;32m     10\u001b[0m \u001b[1;33m\u001b[0m\u001b[0m\n\u001b[1;32m---> 11\u001b[1;33m \u001b[0mreviews\u001b[0m \u001b[1;33m=\u001b[0m \u001b[0mload_jsons\u001b[0m\u001b[1;33m(\u001b[0m\u001b[0mdata_path\u001b[0m\u001b[1;33m,\u001b[0m \u001b[0mreview_file\u001b[0m\u001b[1;33m)\u001b[0m\u001b[1;33m\u001b[0m\u001b[1;33m\u001b[0m\u001b[0m\n\u001b[0m\u001b[0;32m     12\u001b[0m \u001b[0mbusinesses\u001b[0m \u001b[1;33m=\u001b[0m \u001b[0mload_jsons\u001b[0m\u001b[1;33m(\u001b[0m\u001b[0mdata_path\u001b[0m\u001b[1;33m,\u001b[0m \u001b[0mbusiness_file\u001b[0m\u001b[1;33m)\u001b[0m\u001b[1;33m\u001b[0m\u001b[1;33m\u001b[0m\u001b[0m\n\u001b[0;32m     13\u001b[0m \u001b[0musers\u001b[0m \u001b[1;33m=\u001b[0m \u001b[0mload_jsons\u001b[0m\u001b[1;33m(\u001b[0m\u001b[0mdata_path\u001b[0m\u001b[1;33m,\u001b[0m \u001b[0muser_file\u001b[0m\u001b[1;33m)\u001b[0m\u001b[1;33m\u001b[0m\u001b[1;33m\u001b[0m\u001b[0m\n",
      "\u001b[1;32m<ipython-input-5-f21af10d44bf>\u001b[0m in \u001b[0;36mload_jsons\u001b[1;34m(data_path, file)\u001b[0m\n\u001b[0;32m      2\u001b[0m     \u001b[1;34m\"\"\" helper function to load '.json' files (they're not proper jsons) \"\"\"\u001b[0m\u001b[1;33m\u001b[0m\u001b[1;33m\u001b[0m\u001b[0m\n\u001b[0;32m      3\u001b[0m     \u001b[0mfile_path\u001b[0m \u001b[1;33m=\u001b[0m \u001b[0mdata_path\u001b[0m \u001b[1;33m+\u001b[0m \u001b[0mfile\u001b[0m\u001b[1;33m\u001b[0m\u001b[1;33m\u001b[0m\u001b[0m\n\u001b[1;32m----> 4\u001b[1;33m     \u001b[1;32mwith\u001b[0m \u001b[0mopen\u001b[0m\u001b[1;33m(\u001b[0m\u001b[0mfile_path\u001b[0m\u001b[1;33m)\u001b[0m \u001b[1;32mas\u001b[0m \u001b[0mjsons\u001b[0m\u001b[1;33m:\u001b[0m\u001b[1;33m\u001b[0m\u001b[1;33m\u001b[0m\u001b[0m\n\u001b[0m\u001b[0;32m      5\u001b[0m         \u001b[0mlines\u001b[0m \u001b[1;33m=\u001b[0m \u001b[1;33m[\u001b[0m\u001b[0mjson\u001b[0m\u001b[1;33m.\u001b[0m\u001b[0mloads\u001b[0m\u001b[1;33m(\u001b[0m\u001b[0mjson_line\u001b[0m\u001b[1;33m)\u001b[0m \u001b[1;32mfor\u001b[0m \u001b[0mjson_line\u001b[0m \u001b[1;32min\u001b[0m \u001b[0mjsons\u001b[0m\u001b[1;33m]\u001b[0m\u001b[1;33m\u001b[0m\u001b[1;33m\u001b[0m\u001b[0m\n\u001b[0;32m      6\u001b[0m     \u001b[1;32mreturn\u001b[0m \u001b[0mpd\u001b[0m\u001b[1;33m.\u001b[0m\u001b[0mDataFrame\u001b[0m\u001b[1;33m(\u001b[0m\u001b[0mlines\u001b[0m\u001b[1;33m)\u001b[0m\u001b[1;33m\u001b[0m\u001b[1;33m\u001b[0m\u001b[0m\n",
      "\u001b[1;31mFileNotFoundError\u001b[0m: [Errno 2] No such file or directory: './data/ambridge/review.json'"
     ]
    }
   ],
   "source": [
    "# Load data for town called Ambridge\n",
    "data_path = './data/ambridge/'\n",
    "\n",
    "# Seperate the files \n",
    "review_file = 'review.json'\n",
    "business_file = 'business.json'\n",
    "user_file = 'user.json'\n",
    "tip_file = 'tip.json'\n",
    "checkin_file = 'checkin.json'\n",
    "\n",
    "reviews = load_jsons(data_path, review_file)\n",
    "businesses = load_jsons(data_path, business_file)\n",
    "users = load_jsons(data_path, user_file)\n",
    "tips = load_jsons(data_path, tip_file)\n",
    "checkins = load_jsons(data_path, checkin_file)\n",
    "\n",
    "display(businesses)"
   ]
  },
  {
   "cell_type": "code",
   "execution_count": 7,
   "metadata": {},
   "outputs": [
    {
     "ename": "NameError",
     "evalue": "name 'businesses' is not defined",
     "output_type": "error",
     "traceback": [
      "\u001b[1;31m---------------------------------------------------------------------------\u001b[0m",
      "\u001b[1;31mNameError\u001b[0m                                 Traceback (most recent call last)",
      "\u001b[1;32m<ipython-input-7-f81389d1e8dc>\u001b[0m in \u001b[0;36m<module>\u001b[1;34m\u001b[0m\n\u001b[0;32m     30\u001b[0m     \u001b[1;32mreturn\u001b[0m \u001b[0mm11\u001b[0m\u001b[1;33m/\u001b[0m\u001b[1;33m(\u001b[0m\u001b[0mm01\u001b[0m \u001b[1;33m+\u001b[0m \u001b[0mm10\u001b[0m \u001b[1;33m-\u001b[0m \u001b[0mm11\u001b[0m\u001b[1;33m)\u001b[0m\u001b[1;33m\u001b[0m\u001b[1;33m\u001b[0m\u001b[0m\n\u001b[0;32m     31\u001b[0m \u001b[1;33m\u001b[0m\u001b[0m\n\u001b[1;32m---> 32\u001b[1;33m \u001b[0mcategories\u001b[0m \u001b[1;33m=\u001b[0m \u001b[0mextract_categories\u001b[0m\u001b[1;33m(\u001b[0m\u001b[0mbusinesses\u001b[0m\u001b[1;33m)\u001b[0m\u001b[1;33m\u001b[0m\u001b[1;33m\u001b[0m\u001b[0m\n\u001b[0m\u001b[0;32m     33\u001b[0m \u001b[0mdf_utility_categories\u001b[0m \u001b[1;33m=\u001b[0m \u001b[0mpivot_categories\u001b[0m\u001b[1;33m(\u001b[0m\u001b[0mcategories\u001b[0m\u001b[1;33m)\u001b[0m\u001b[1;33m\u001b[0m\u001b[1;33m\u001b[0m\u001b[0m\n\u001b[0;32m     34\u001b[0m \u001b[0msimilarity_matrix_categories\u001b[0m \u001b[1;33m=\u001b[0m \u001b[0mcreate_similarity_matrix_jaccard\u001b[0m\u001b[1;33m(\u001b[0m\u001b[0mdf_utility_categories\u001b[0m\u001b[1;33m)\u001b[0m\u001b[1;33m\u001b[0m\u001b[1;33m\u001b[0m\u001b[0m\n",
      "\u001b[1;31mNameError\u001b[0m: name 'businesses' is not defined"
     ]
    }
   ],
   "source": [
    "\"\"\"\n",
    "All these functions were taken and modified from module 3\n",
    "\"\"\"\n",
    "\n",
    "def extract_categories(businesses):\n",
    "    categories = businesses.apply(lambda row: pd.Series([row['business_id']] + row['categories'].lower().split(\",\")), axis=1)\n",
    "    stack_categories = categories.set_index(0).stack()\n",
    "    df_stack_categories = stack_categories.to_frame()\n",
    "    df_stack_categories['business_id'] = stack_categories.index.droplevel(1)\n",
    "    df_stack_categories.columns = ['category', 'business_id']\n",
    "    return df_stack_categories.reset_index()[['business_id', 'category']]\n",
    "\n",
    "def pivot_categories(df):\n",
    "    \"\"\"Create a one-hot encoded matrix for categories.\n",
    "    \n",
    "    Arguments:\n",
    "    df -- a dataFrame containing at least the columns 'businessId' and 'category'\n",
    "    \n",
    "    Output:\n",
    "    a matrix containing '0' or '1' in each cell.\n",
    "    1: the business has the category\n",
    "    0: the business does not have the category\n",
    "    \"\"\"\n",
    "    return df.pivot_table(index = 'business_id', columns = 'category', aggfunc = 'size', fill_value=0)\n",
    "\n",
    "def create_similarity_matrix_jaccard(matrix):\n",
    "    m11 = matrix @ matrix.T\n",
    "    m10 = pd.DataFrame(matrix.sum(axis = 1).values + np.zeros(m11.shape), index = m11.index, columns = m11.index)\n",
    "    m01 = m10.T\n",
    "    return m11/(m01 + m10 - m11)\n",
    "\n",
    "categories = extract_categories(businesses)\n",
    "df_utility_categories = pivot_categories(categories)\n",
    "similarity_matrix_categories = create_similarity_matrix_jaccard(df_utility_categories)"
   ]
  },
  {
   "cell_type": "code",
   "execution_count": 8,
   "metadata": {},
   "outputs": [
    {
     "ename": "NameError",
     "evalue": "name 'similarity_matrix_categories' is not defined",
     "output_type": "error",
     "traceback": [
      "\u001b[1;31m---------------------------------------------------------------------------\u001b[0m",
      "\u001b[1;31mNameError\u001b[0m                                 Traceback (most recent call last)",
      "\u001b[1;32m<ipython-input-8-95f9b97f5251>\u001b[0m in \u001b[0;36m<module>\u001b[1;34m\u001b[0m\n\u001b[1;32m----> 1\u001b[1;33m \u001b[0mdisplay\u001b[0m\u001b[1;33m(\u001b[0m\u001b[0msimilarity_matrix_categories\u001b[0m\u001b[1;33m.\u001b[0m\u001b[0mhead\u001b[0m\u001b[1;33m(\u001b[0m\u001b[1;33m)\u001b[0m\u001b[1;33m)\u001b[0m\u001b[1;33m\u001b[0m\u001b[1;33m\u001b[0m\u001b[0m\n\u001b[0m",
      "\u001b[1;31mNameError\u001b[0m: name 'similarity_matrix_categories' is not defined"
     ]
    }
   ],
   "source": [
    "display(similarity_matrix_categories.head())"
   ]
  },
  {
   "cell_type": "code",
   "execution_count": 9,
   "metadata": {},
   "outputs": [
    {
     "ename": "NameError",
     "evalue": "name 'users' is not defined",
     "output_type": "error",
     "traceback": [
      "\u001b[1;31m---------------------------------------------------------------------------\u001b[0m",
      "\u001b[1;31mNameError\u001b[0m                                 Traceback (most recent call last)",
      "\u001b[1;32m<ipython-input-9-5513888333b7>\u001b[0m in \u001b[0;36m<module>\u001b[1;34m\u001b[0m\n\u001b[1;32m----> 1\u001b[1;33m \u001b[0muser_dataframe\u001b[0m \u001b[1;33m=\u001b[0m \u001b[0mpd\u001b[0m\u001b[1;33m.\u001b[0m\u001b[0mDataFrame\u001b[0m\u001b[1;33m(\u001b[0m\u001b[0musers\u001b[0m\u001b[1;33m)\u001b[0m\u001b[1;33m\u001b[0m\u001b[1;33m\u001b[0m\u001b[0m\n\u001b[0m\u001b[0;32m      2\u001b[0m \u001b[1;33m\u001b[0m\u001b[0m\n\u001b[0;32m      3\u001b[0m \u001b[0mdisplay\u001b[0m\u001b[1;33m(\u001b[0m\u001b[0muser_dataframe\u001b[0m\u001b[1;33m)\u001b[0m\u001b[1;33m\u001b[0m\u001b[1;33m\u001b[0m\u001b[0m\n",
      "\u001b[1;31mNameError\u001b[0m: name 'users' is not defined"
     ]
    }
   ],
   "source": [
    "user_dataframe = pd.DataFrame(users)\n",
    "\n",
    "display(user_dataframe)"
   ]
  },
  {
   "cell_type": "code",
   "execution_count": 10,
   "metadata": {},
   "outputs": [],
   "source": [
    "def predict_ratings(similarity, utility, to_predict):\n",
    "    \"\"\"Predicts the predicted rating for the input test data.\n",
    "    \n",
    "    Arguments:\n",
    "    similarity -- a dataFrame that describes the similarity between items\n",
    "    utility    -- a dataFrame that contains a rating for each user (columns) and each movie (rows). \n",
    "                  If a user did not rate an item the value np.nan is assumed. \n",
    "    to_predict -- A dataFrame containing at least the columns movieId and userId for which to do the predictions\n",
    "    \"\"\"\n",
    "    # copy input (don't overwrite)\n",
    "    ratings_test_c = to_predict.copy()\n",
    "    # apply prediction to each row\n",
    "    ratings_test_c['predicted category'] = to_predict.apply(lambda row: predict_ids(similarity, utility, row['categories'], row['business_id']), axis=1)\n",
    "    return ratings_test_c\n",
    "\n",
    "\n",
    "def predict_ids(similarity, utility, userId, itemId):\n",
    "    # select right series from matrices and compute\n",
    "    if userId in utility.columns and itemId in similarity.index:\n",
    "        return predict_vectors(utility.loc[:,userId], similarity[itemId])\n",
    "    return 0"
   ]
  },
  {
   "cell_type": "code",
   "execution_count": 11,
   "metadata": {},
   "outputs": [
    {
     "ename": "NameError",
     "evalue": "name 'similarity_matrix_categories' is not defined",
     "output_type": "error",
     "traceback": [
      "\u001b[1;31m---------------------------------------------------------------------------\u001b[0m",
      "\u001b[1;31mNameError\u001b[0m                                 Traceback (most recent call last)",
      "\u001b[1;32m<ipython-input-11-78cb59914cef>\u001b[0m in \u001b[0;36m<module>\u001b[1;34m\u001b[0m\n\u001b[1;32m----> 1\u001b[1;33m \u001b[0mprediction\u001b[0m \u001b[1;33m=\u001b[0m \u001b[0mpredict_ratings\u001b[0m\u001b[1;33m(\u001b[0m\u001b[0msimilarity_matrix_categories\u001b[0m\u001b[1;33m,\u001b[0m \u001b[0mbusinesses\u001b[0m\u001b[1;33m,\u001b[0m \u001b[0mbusinesses\u001b[0m\u001b[1;33m[\u001b[0m\u001b[1;33m[\u001b[0m\u001b[1;34m'name'\u001b[0m\u001b[1;33m,\u001b[0m \u001b[1;34m'business_id'\u001b[0m\u001b[1;33m,\u001b[0m \u001b[1;34m'categories'\u001b[0m\u001b[1;33m]\u001b[0m\u001b[1;33m]\u001b[0m\u001b[1;33m)\u001b[0m\u001b[1;33m\u001b[0m\u001b[1;33m\u001b[0m\u001b[0m\n\u001b[0m\u001b[0;32m      2\u001b[0m \u001b[0mdisplay\u001b[0m\u001b[1;33m(\u001b[0m\u001b[0mprediction\u001b[0m\u001b[1;33m)\u001b[0m\u001b[1;33m\u001b[0m\u001b[1;33m\u001b[0m\u001b[0m\n",
      "\u001b[1;31mNameError\u001b[0m: name 'similarity_matrix_categories' is not defined"
     ]
    }
   ],
   "source": [
    "prediction = predict_ratings(similarity_matrix_categories, businesses, businesses[['name', 'business_id', 'categories']])\n",
    "display(prediction)"
   ]
  },
  {
   "cell_type": "code",
   "execution_count": null,
   "metadata": {},
   "outputs": [],
   "source": []
  }
 ],
 "metadata": {
  "kernelspec": {
   "display_name": "Python 3",
   "language": "python",
   "name": "python3"
  },
  "language_info": {
   "codemirror_mode": {
    "name": "ipython",
    "version": 3
   },
   "file_extension": ".py",
   "mimetype": "text/x-python",
   "name": "python",
   "nbconvert_exporter": "python",
   "pygments_lexer": "ipython3",
   "version": "3.7.6"
  }
 },
 "nbformat": 4,
 "nbformat_minor": 4
}
